{
  "cells": [
    {
      "cell_type": "code",
      "execution_count": null,
      "metadata": {
        "id": "m533Mxvv-wS5",
        "outputId": "04e24dac-5030-4886-b52c-9b218857c07c"
      },
      "outputs": [
        {
          "name": "stdout",
          "output_type": "stream",
          "text": [
            "-4.0 e negativo\n"
          ]
        }
      ],
      "source": [
        "#1.Faça um algoritmo para determinar se um número é positivo:\n",
        "numero = float (input(\"Insira um numero:\"))\n",
        "\n",
        "if numero > 0 :\n",
        "    print(f\"{numero} e positivo\")\n",
        "elif numero == 0:\n",
        "    print(f\"{numero} e neutro\")\n",
        "else:\n",
        "    print(f\"{numero} e negativo\")"
      ]
    },
    {
      "cell_type": "code",
      "execution_count": null,
      "metadata": {
        "id": "Qw7B3JdG-wS6",
        "outputId": "36cd9e41-7960-4057-cdfd-f7aa8f488f53"
      },
      "outputs": [
        {
          "name": "stdout",
          "output_type": "stream",
          "text": [
            "123123123212 e par\n"
          ]
        }
      ],
      "source": [
        "#2.Receba um númer o e retorne se é par ou ímpar:\n",
        "numero =  int (input(\"Insira um numero\"))\n",
        "\n",
        "if numero % 2 == 0:\n",
        "    print(f\"{numero} e par\")\n",
        "else:\n",
        "    print(f\"{numero} e impar\")"
      ]
    },
    {
      "cell_type": "code",
      "execution_count": null,
      "metadata": {
        "id": "DteQ_y7J-wS6",
        "outputId": "54481c39-371b-4eab-8075-ac3dd1aeab3c"
      },
      "outputs": [
        {
          "name": "stdout",
          "output_type": "stream",
          "text": [
            "12.0 e maior que 0\n"
          ]
        }
      ],
      "source": [
        "#3.Receba um número e retorno se ele é maior, menor ou igual a zero:\n",
        "numero = float (input(\"Insira um numero\"))\n",
        "\n",
        "if numero > 0:\n",
        "    print (f\"{numero} e maior que 0\")\n",
        "elif numero == 0:\n",
        "    print(f\"{numero} e igual a 0\")\n",
        "else:\n",
        "    print(f\"{numero} e menor que 0\")"
      ]
    },
    {
      "cell_type": "code",
      "execution_count": null,
      "metadata": {
        "id": "wOKQlAoT-wS6",
        "outputId": "13027220-7f5a-4256-bf86-4ef3b875ebd1"
      },
      "outputs": [
        {
          "name": "stdout",
          "output_type": "stream",
          "text": [
            "Voce e maior de idade pois tem 2312312 anos\n"
          ]
        }
      ],
      "source": [
        "#4.Pergunte para uma pessoa a sua idade e retorne se ele é maior de idade:\n",
        "idade = int(input(\"Informe sua idade\"))\n",
        "\n",
        "if idade >= 18:\n",
        "    print(f\"Voce e maior de idade pois tem {idade} anos\")\n",
        "elif idade < 0 :\n",
        "    print (f\"idade invalida pois uma pessoa nao pode ter {idade} anos\")\n",
        "else:\n",
        "    print(f\"Voce e menor de idade pois tem {idade} anos \")\n"
      ]
    },
    {
      "cell_type": "code",
      "execution_count": null,
      "metadata": {
        "id": "XMB8_OJQ-wS7",
        "outputId": "2ebc4cfb-76b9-4d23-9a85-776fa7bcb893"
      },
      "outputs": [
        {
          "name": "stdout",
          "output_type": "stream",
          "text": [
            "Voce nao pode votar pois a idade minima e 16 anos e voce so tem 12\n"
          ]
        }
      ],
      "source": [
        "#5.Receba a idade de uma pessoa e retorne se ela é apta para votar:\n",
        "idade = int(input(\"Digite sua idade\"))\n",
        "\n",
        "if idade >= 16 :\n",
        "    print(f\"Voce esta apto para votar pois tem {idade} anos\")\n",
        "elif idade < 0:\n",
        "    print(f\"Idade invalida uma pessoa nao pode ter {idade} anos\")\n",
        "else:\n",
        "    print (f\"Voce nao pode votar pois a idade minima e 16 anos e voce so tem {idade}\")\n",
        "\n"
      ]
    },
    {
      "cell_type": "code",
      "execution_count": null,
      "metadata": {
        "colab": {
          "base_uri": "https://localhost:8080/"
        },
        "id": "3x-KfYPO-wS7",
        "outputId": "d3b26c09-4a54-4e20-bd87-e2650fcb9195"
      },
      "outputs": [
        {
          "name": "stdout",
          "output_type": "stream",
          "text": [
            "Insira sua idade65\n",
            "Voce tem direito a 1/2\n"
          ]
        }
      ],
      "source": [
        "#6.O Cinemas Teresina Shopping lhe contratou para desenvolver um algoritmo para\n",
        "#saber se uma pessoa tem direito a meia-entrada do cinema:\n",
        "\n",
        "idade = int (input(\"Insira sua idade\"))\n",
        "\n",
        "if idade < 12 :\n",
        "    print (\"Voce tem direito a 1/2\")\n",
        "elif idade > 60 :\n",
        "    print (\"Voce tem direito a 1/2\")\n",
        "else:\n",
        "    print(\"Voce deve pagar inteira\")\n"
      ]
    },
    {
      "cell_type": "code",
      "execution_count": null,
      "metadata": {
        "id": "zpzjdVKS-wS7",
        "outputId": "f81476fb-c3f1-430b-97a8-0f1607ef41ab"
      },
      "outputs": [
        {
          "name": "stdout",
          "output_type": "stream",
          "text": [
            "nota invalida\n"
          ]
        }
      ],
      "source": [
        "#7.Faça um algoritmo para verificar se um aluno foi aprovado em uma disciplina com\n",
        "#nota mínima 6.0:\n",
        "\n",
        "nota =  float (input(\"Qual foi a sua nota \"))\n",
        "\n",
        "if nota >= 6 :\n",
        "    print (\"Voce foi aprovado\")\n",
        "elif nota < 0 :\n",
        "    print(\"nota invalida\")\n",
        "else:\n",
        "    print(\"Voce foi reprovado\")"
      ]
    },
    {
      "cell_type": "code",
      "execution_count": null,
      "metadata": {
        "id": "E5NJ1scn-wS7",
        "outputId": "29a8a13f-4f80-43e0-8eae-37c9747d66dc"
      },
      "outputs": [
        {
          "name": "stdout",
          "output_type": "stream",
          "text": [
            "15 nao e divisivel por 2 e por 5\n"
          ]
        }
      ],
      "source": [
        "#8. Receba um número e retorne se ele é divisível por 2 e por 5:\n",
        "\n",
        "numero = int (input(\"Digite um numero\"))\n",
        "\n",
        "if numero % 2 == 0 and numero % 5 == 0:\n",
        "    print (f\"{numero} e disivel por 2 e por 5\")\n",
        "else:\n",
        "    print (f\"{numero} nao e divisivel por 2 e por 5\")"
      ]
    },
    {
      "cell_type": "code",
      "execution_count": null,
      "metadata": {
        "id": "7zH0h8dc-wS7",
        "outputId": "e5b4bf79-a93f-485e-b907-53e6709baf12"
      },
      "outputs": [
        {
          "name": "stdout",
          "output_type": "stream",
          "text": [
            "radar e um palindromo pois seu inverso e radar\n"
          ]
        }
      ],
      "source": [
        "#9. Faça um algoritmo para verificar se uma palavra é um palíndromo:\n",
        "palavra = input(\"Insira uma palavra\")\n",
        "palavra_invertida = palavra[::-1]\n",
        "\n",
        "if palavra ==  palavra_invertida:\n",
        "    print(f\"{palavra} e um palindromo pois seu inverso e {palavra_invertida}\")\n",
        "else:\n",
        "    print(f\"{palavra} nao e um palindromo pois seu inverso e {palavra_invertida}\")"
      ]
    },
    {
      "cell_type": "code",
      "execution_count": 12,
      "metadata": {
        "id": "0_w92pEd-wS8",
        "outputId": "d144e3ae-c317-44e1-c0f9-b4ba5688d583"
      },
      "outputs": [
        {
          "name": "stdout",
          "output_type": "stream",
          "text": [
            "3 é primo\n"
          ]
        }
      ],
      "source": [
        "#10. Receba um número e retorne se ele é primo:\n",
        "\n",
        "numero = int (input(\"Insira um numero\"))\n",
        "multiplos = 0\n",
        "\n",
        "\n",
        "\n",
        "for count in range (2, numero):\n",
        "    if (numero % count == 0):\n",
        "        print(f\"multiplo de {count}\")\n",
        "        multiplos += 1\n",
        "\n",
        "if(multiplos==0):\n",
        "    print(f\"{numero} é primo\")\n",
        "else:\n",
        "    print(f\"{numero} não é primo\")\n",
        "    \n",
        "\n"
      ]
    },
    {
      "cell_type": "code",
      "execution_count": 19,
      "metadata": {},
      "outputs": [
        {
          "name": "stdout",
          "output_type": "stream",
          "text": [
            "4000 é um ano bissexto\n"
          ]
        }
      ],
      "source": [
        "# 11. Faça um algoritmo para retornar se um ano é bissexto:\n",
        "#Versao 2.0\n",
        "year = int (input(\"Insira um ano\"))\n",
        "if year % 4 == 0 or year %100 == 0 and year %400 == 0 :\n",
        "    print (f\"{year} é um ano bissexto\")\n",
        "#antes aqui tinha um elif com o que vem depois do OR na condicional anterior\n",
        "#mas quis testar se funcionava assim tambem e acho que funcionou\n",
        "else:\n",
        "    print(f\"{year} não é bissexto\")\n"
      ]
    },
    {
      "cell_type": "code",
      "execution_count": 30,
      "metadata": {},
      "outputs": [
        {
          "name": "stdout",
          "output_type": "stream",
          "text": [
            " A data escolhida foi 1/7/2023\n"
          ]
        }
      ],
      "source": [
        "#12. Faça um algoritmo para validar se uma data é válida (considerando dia, mês e ano)\n",
        "day = int(input(\"Insira o dia\"))\n",
        "max_day = 31\n",
        "max_day_february = 28\n",
        "mounth = int(input(\"Insira o mês\"))\n",
        "max_mounth = 12\n",
        "year = int(input(\"Insira o ano\"))\n",
        "#aqui importei essa biblioteca qud vi na internet porque queria ter um jeito de sair caso \n",
        "#informaçao fosse invalida\n",
        "\n",
        "import sys \n",
        "\n",
        "\n",
        "#dias\n",
        "if day > max_day:\n",
        "    print (\"Dia invalido\")\n",
        "    sys.exit()\n",
        "elif mounth == 2 and day > max_day_february:\n",
        "    print(\"Dia invalido pois fevereiro so tem 28 dias\")\n",
        "    sys.exit()\n",
        "    \n",
        "elif day <= 0:\n",
        "    print(\"Dia invalido\")\n",
        "    sys.exit()\n",
        "\n",
        "\n",
        "\n",
        "#meses\n",
        "if mounth > max_mounth :\n",
        "    print(\"Mes invalido\")\n",
        "    sys.exit()\n",
        "elif mounth <= 0:\n",
        "    print(\"Mes invalido\")\n",
        "    sys.exit()\n",
        "\n",
        "\n",
        "print (f\" A data escolhida foi {day}/{mounth}/{year}\")\n",
        "\n",
        "\n",
        "\n"
      ]
    },
    {
      "cell_type": "code",
      "execution_count": 42,
      "metadata": {},
      "outputs": [
        {
          "name": "stdout",
          "output_type": "stream",
          "text": [
            "3\n",
            "é um quadrado perfeito\n"
          ]
        }
      ],
      "source": [
        "#13 .Faça um algoritmo para identificar se um número é um quadrado perfeito:\n",
        "\n",
        "numero = int(input(\"insira um numero\"))\n",
        "raiz = int(numero**(1/2))\n",
        "print(raiz)\n",
        "if isinstance (raiz, int):\n",
        "#Essa funcao insistance e pra verificar se um \"objeto\" ou variavel pertence a um determinado tipo\n",
        "    print(\"é um quadrado perfeito\")\n",
        "else:\n",
        "    print(\"Não é um quadrado perfeito\")\n",
        "\n"
      ]
    },
    {
      "cell_type": "code",
      "execution_count": 46,
      "metadata": {},
      "outputs": [
        {
          "name": "stdout",
          "output_type": "stream",
          "text": [
            "24.221453287197235\n",
            "Peso normal\n"
          ]
        }
      ],
      "source": [
        "#14.Faça um algoritmo para calcular o IMC (Índice de Massa Corporal) de uma pessoa e\n",
        "#verificar em qual faixa ela se encontra:\n",
        "\n",
        "weight= float(input(\"Insira seu peso\"))\n",
        "height = float(input(\"Insira sua altura\"))\n",
        "imc =  weight / (height * height)\n",
        "print(imc)\n",
        "\n",
        "if imc < 0:\n",
        "    print(\"Informacoes invalidas\")\n",
        "elif imc <= 16.9 :\n",
        "    print(\"Muito abaixo do peso\")\n",
        "elif imc >= 17 and imc <= 18.4:\n",
        "    print(\"Abaixo do peso\")\n",
        "elif imc >=18.5 and imc <= 24.9:\n",
        "    print(\"Peso normal\")\n",
        "elif imc >= 30 and imc <=34.9:\n",
        "    print(\"Obesidad grau I\")\n",
        "elif imc >=35 and imc <=40:\n",
        "    print(\"Obesidade grau II\")\n",
        "else:\n",
        "    print (\"Obsidade grau III\")\n",
        "\n",
        "    \n",
        "\n"
      ]
    },
    {
      "cell_type": "code",
      "execution_count": 53,
      "metadata": {},
      "outputs": [
        {
          "name": "stdout",
          "output_type": "stream",
          "text": [
            "pele  e numero não sao anagramas.\n"
          ]
        }
      ],
      "source": [
        "#15.Faça um código que recebe duas palavras e retorne se existe uma sequência de\n",
        "#caracteres é no forma anagrama:\n",
        "\n",
        "word_1 = input(\"Insira uma palavra\")\n",
        "word_2 =  input(\"Insira outra palavra\")\n",
        "\n",
        "word_1 = word_1.lower()\n",
        "word_2 = word_2.lower()\n",
        "#serve pra deixar as letras minusculas\n",
        "\n",
        "if len(word_1) == len(word_2):\n",
        "#len é pra contar o numero de letras\n",
        "\n",
        "    sorted_word_1 = sorted(word_1)\n",
        "    sorted_word_2 = sorted(word_2)\n",
        "#usa pra ordenar listas\n",
        "\n",
        "    if sorted_word_1 == sorted_word_2:\n",
        "        print(f\"{word_1} e {word_2} sao anagramas.\")\n",
        "    else :\n",
        "        print(f\"{word_1} e {word_2} não sao anagramas.\")\n",
        "\n",
        "else:\n",
        "    print(f\"{word_1} e {word_2} não sao anagramas.\")\n"
      ]
    },
    {
      "cell_type": "code",
      "execution_count": null,
      "metadata": {},
      "outputs": [],
      "source": [
        "#16.Faça um algoritmo para retornar se um número é um número de Armstrong"
      ]
    }
  ],
  "metadata": {
    "colab": {
      "provenance": []
    },
    "kernelspec": {
      "display_name": "Python 3",
      "language": "python",
      "name": "python3"
    },
    "language_info": {
      "codemirror_mode": {
        "name": "ipython",
        "version": 3
      },
      "file_extension": ".py",
      "mimetype": "text/x-python",
      "name": "python",
      "nbconvert_exporter": "python",
      "pygments_lexer": "ipython3",
      "version": "3.11.3"
    },
    "orig_nbformat": 4
  },
  "nbformat": 4,
  "nbformat_minor": 0
}
