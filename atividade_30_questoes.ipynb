{
  "cells": [
    {
      "cell_type": "code",
      "execution_count": null,
      "metadata": {
        "id": "m533Mxvv-wS5",
        "outputId": "04e24dac-5030-4886-b52c-9b218857c07c"
      },
      "outputs": [
        {
          "name": "stdout",
          "output_type": "stream",
          "text": [
            "-4.0 e negativo\n"
          ]
        }
      ],
      "source": [
        "#Faça um algoritmo para determinar se um número é positivo:\n",
        "numero = float (input(\"Insira um numero:\"))\n",
        "\n",
        "if numero > 0 :\n",
        "    print(f\"{numero} e positivo\")\n",
        "elif numero == 0:\n",
        "    print(f\"{numero} e neutro\")\n",
        "else:\n",
        "    print(f\"{numero} e negativo\")"
      ]
    },
    {
      "cell_type": "code",
      "execution_count": null,
      "metadata": {
        "id": "Qw7B3JdG-wS6",
        "outputId": "36cd9e41-7960-4057-cdfd-f7aa8f488f53"
      },
      "outputs": [
        {
          "name": "stdout",
          "output_type": "stream",
          "text": [
            "123123123212 e par\n"
          ]
        }
      ],
      "source": [
        "#Receba um númer o e retorne se é par ou ímpar:\n",
        "numero =  int (input(\"Insira um numero\"))\n",
        "\n",
        "if numero %2 == 0:\n",
        "    print(f\"{numero} e par\")\n",
        "else:\n",
        "    print(f\"{numero} e impar\")"
      ]
    },
    {
      "cell_type": "code",
      "execution_count": null,
      "metadata": {
        "id": "DteQ_y7J-wS6",
        "outputId": "54481c39-371b-4eab-8075-ac3dd1aeab3c"
      },
      "outputs": [
        {
          "name": "stdout",
          "output_type": "stream",
          "text": [
            "12.0 e maior que 0\n"
          ]
        }
      ],
      "source": [
        "#Receba um número e retorno se ele é maior, menor ou igual a zero:\n",
        "numero = float (input(\"Insira um numero\"))\n",
        "\n",
        "if numero > 0:\n",
        "    print (f\"{numero} e maior que 0\")\n",
        "elif numero == 0:\n",
        "    print(f\"{numero} e igual a 0\")\n",
        "else:\n",
        "    print(f\"{numero} e menor que 0\")"
      ]
    },
    {
      "cell_type": "code",
      "execution_count": null,
      "metadata": {
        "id": "wOKQlAoT-wS6",
        "outputId": "13027220-7f5a-4256-bf86-4ef3b875ebd1"
      },
      "outputs": [
        {
          "name": "stdout",
          "output_type": "stream",
          "text": [
            "Voce e maior de idade pois tem 2312312 anos\n"
          ]
        }
      ],
      "source": [
        "#Pergunte para uma pessoa a sua idade e retorne se ele é maior de idade:\n",
        "idade = int(input(\"Informe sua idade\"))\n",
        "\n",
        "if idade >= 18:\n",
        "    print(f\"Voce e maior de idade pois tem {idade} anos\")\n",
        "elif idade < 0 :\n",
        "    print (f\"idade invalida pois uma pessoa nao pode ter {idade} anos\")\n",
        "else:\n",
        "    print(f\"Voce e menor de idade pois tem {idade} anos \")\n"
      ]
    },
    {
      "cell_type": "code",
      "execution_count": null,
      "metadata": {
        "id": "XMB8_OJQ-wS7",
        "outputId": "2ebc4cfb-76b9-4d23-9a85-776fa7bcb893"
      },
      "outputs": [
        {
          "name": "stdout",
          "output_type": "stream",
          "text": [
            "Voce nao pode votar pois a idade minima e 16 anos e voce so tem 12\n"
          ]
        }
      ],
      "source": [
        "#Receba a idade de uma pessoa e retorne se ela é apta para votar:\n",
        "idade = int(input(\"Digite sua idade\"))\n",
        "\n",
        "if idade >= 16 :\n",
        "    print(f\"Voce esta apto para votar pois tem {idade} anos\")\n",
        "elif idade < 0:\n",
        "    print(f\"Idade invalida uma pessoa nao pode ter {idade} anos\")\n",
        "else:\n",
        "    print (f\"Voce nao pode votar pois a idade minima e 16 anos e voce so tem {idade}\")\n",
        "\n"
      ]
    },
    {
      "cell_type": "code",
      "execution_count": null,
      "metadata": {
        "colab": {
          "base_uri": "https://localhost:8080/"
        },
        "id": "3x-KfYPO-wS7",
        "outputId": "d3b26c09-4a54-4e20-bd87-e2650fcb9195"
      },
      "outputs": [
        {
          "name": "stdout",
          "output_type": "stream",
          "text": [
            "Insira sua idade65\n",
            "Voce tem direito a 1/2\n"
          ]
        }
      ],
      "source": [
        "#O Cinemas Teresina Shopping lhe contratou para desenvolver um algoritmo para\n",
        "#saber se uma pessoa tem direito a meia-entrada do cinema:\n",
        "\n",
        "idade = int (input(\"Insira sua idade\"))\n",
        "\n",
        "if idade < 12 :\n",
        "    print (\"Voce tem direito a 1/2\")\n",
        "elif idade > 60 :\n",
        "    print (\"Voce tem direito a 1/2\")\n",
        "else:\n",
        "    print(\"Voce deve pagar inteira\")\n"
      ]
    },
    {
      "cell_type": "code",
      "execution_count": null,
      "metadata": {
        "id": "zpzjdVKS-wS7",
        "outputId": "f81476fb-c3f1-430b-97a8-0f1607ef41ab"
      },
      "outputs": [
        {
          "name": "stdout",
          "output_type": "stream",
          "text": [
            "nota invalida\n"
          ]
        }
      ],
      "source": [
        "#Faça um algoritmo para verificar se um aluno foi aprovado em uma disciplina com\n",
        "#nota mínima 6.0:\n",
        "\n",
        "nota =  float (input(\"Qual foi a sua nota \"))\n",
        "\n",
        "if nota >= 6 :\n",
        "    print (\"Voce foi aprovado\")\n",
        "elif nota < 0 :\n",
        "    print(\"nota invalida\")\n",
        "else:\n",
        "    print(\"Voce foi reprovado\")"
      ]
    },
    {
      "cell_type": "code",
      "execution_count": null,
      "metadata": {
        "id": "E5NJ1scn-wS7",
        "outputId": "29a8a13f-4f80-43e0-8eae-37c9747d66dc"
      },
      "outputs": [
        {
          "name": "stdout",
          "output_type": "stream",
          "text": [
            "15 nao e divisivel por 2 e por 5\n"
          ]
        }
      ],
      "source": [
        "#8. Receba um número e retorne se ele é divisível por 2 e por 5:\n",
        "\n",
        "numero = int (input(\"Digite um numero\"))\n",
        "\n",
        "if numero % 2 == 0 and numero % 5 == 0:\n",
        "    print (f\"{numero} e disivel por 2 e por 5\")\n",
        "else:\n",
        "    print (f\"{numero} nao e divisivel por 2 e por 5\")"
      ]
    },
    {
      "cell_type": "code",
      "execution_count": null,
      "metadata": {
        "id": "7zH0h8dc-wS7",
        "outputId": "e5b4bf79-a93f-485e-b907-53e6709baf12"
      },
      "outputs": [
        {
          "name": "stdout",
          "output_type": "stream",
          "text": [
            "radar e um palindromo pois seu inverso e radar\n"
          ]
        }
      ],
      "source": [
        "#9. Faça um algoritmo para verificar se uma palavra é um palíndromo:\n",
        "palavra = input(\"Insira uma palavra\")\n",
        "palavra_invertida = palavra[::-1]\n",
        "\n",
        "if palavra ==  palavra_invertida:\n",
        "    print(f\"{palavra} e um palindromo pois seu inverso e {palavra_invertida}\")\n",
        "else:\n",
        "    print(f\"{palavra} nao e um palindromo pois seu inverso e {palavra_invertida}\")"
      ]
    },
    {
      "cell_type": "code",
      "execution_count": 11,
      "metadata": {
        "id": "0_w92pEd-wS8",
        "outputId": "d144e3ae-c317-44e1-c0f9-b4ba5688d583"
      },
      "outputs": [
        {
          "name": "stdout",
          "output_type": "stream",
          "text": [
            "multiplo de 2\n",
            "multiplo de 4\n",
            "Unexpected exception formatting exception. Falling back to standard exception\n"
          ]
        },
        {
          "name": "stderr",
          "output_type": "stream",
          "text": [
            "Traceback (most recent call last):\n",
            "  File \"/home/jorger/.local/lib/python3.11/site-packages/IPython/core/interactiveshell.py\", line 3508, in run_code\n",
            "    exec(code_obj, self.user_global_ns, self.user_ns)\n",
            "  File \"/tmp/ipykernel_28160/2207275055.py\", line -1, in <module>\n",
            "KeyboardInterrupt\n",
            "\n",
            "During handling of the above exception, another exception occurred:\n",
            "\n",
            "Traceback (most recent call last):\n",
            "  File \"/home/jorger/.local/lib/python3.11/site-packages/IPython/core/interactiveshell.py\", line 2105, in showtraceback\n",
            "    stb = self.InteractiveTB.structured_traceback(\n",
            "          ^^^^^^^^^^^^^^^^^^^^^^^^^^^^^^^^^^^^^^^^\n",
            "  File \"/home/jorger/.local/lib/python3.11/site-packages/IPython/core/ultratb.py\", line 1428, in structured_traceback\n",
            "    return FormattedTB.structured_traceback(\n",
            "           ^^^^^^^^^^^^^^^^^^^^^^^^^^^^^^^^^\n",
            "  File \"/home/jorger/.local/lib/python3.11/site-packages/IPython/core/ultratb.py\", line 1319, in structured_traceback\n",
            "    return VerboseTB.structured_traceback(\n",
            "           ^^^^^^^^^^^^^^^^^^^^^^^^^^^^^^^\n",
            "  File \"/home/jorger/.local/lib/python3.11/site-packages/IPython/core/ultratb.py\", line 1172, in structured_traceback\n",
            "    formatted_exception = self.format_exception_as_a_whole(etype, evalue, etb, number_of_lines_of_context,\n",
            "                          ^^^^^^^^^^^^^^^^^^^^^^^^^^^^^^^^^^^^^^^^^^^^^^^^^^^^^^^^^^^^^^^^^^^^^^^^^^^^^^^^\n",
            "  File \"/home/jorger/.local/lib/python3.11/site-packages/IPython/core/ultratb.py\", line 1087, in format_exception_as_a_whole\n",
            "    frames.append(self.format_record(record))\n",
            "                  ^^^^^^^^^^^^^^^^^^^^^^^^^^\n",
            "  File \"/home/jorger/.local/lib/python3.11/site-packages/IPython/core/ultratb.py\", line 969, in format_record\n",
            "    frame_info.lines, Colors, self.has_colors, lvals\n",
            "    ^^^^^^^^^^^^^^^^\n",
            "  File \"/home/jorger/.local/lib/python3.11/site-packages/IPython/core/ultratb.py\", line 792, in lines\n",
            "    return self._sd.lines\n",
            "           ^^^^^^^^^^^^^^\n",
            "  File \"/home/jorger/.local/lib/python3.11/site-packages/stack_data/utils.py\", line 144, in cached_property_wrapper\n",
            "    value = obj.__dict__[self.func.__name__] = self.func(obj)\n",
            "                                               ^^^^^^^^^^^^^^\n",
            "  File \"/home/jorger/.local/lib/python3.11/site-packages/stack_data/core.py\", line 734, in lines\n",
            "    pieces = self.included_pieces\n",
            "             ^^^^^^^^^^^^^^^^^^^^\n",
            "  File \"/home/jorger/.local/lib/python3.11/site-packages/stack_data/utils.py\", line 144, in cached_property_wrapper\n",
            "    value = obj.__dict__[self.func.__name__] = self.func(obj)\n",
            "                                               ^^^^^^^^^^^^^^\n",
            "  File \"/home/jorger/.local/lib/python3.11/site-packages/stack_data/core.py\", line 681, in included_pieces\n",
            "    pos = scope_pieces.index(self.executing_piece)\n",
            "                             ^^^^^^^^^^^^^^^^^^^^\n",
            "  File \"/home/jorger/.local/lib/python3.11/site-packages/stack_data/utils.py\", line 144, in cached_property_wrapper\n",
            "    value = obj.__dict__[self.func.__name__] = self.func(obj)\n",
            "                                               ^^^^^^^^^^^^^^\n",
            "  File \"/home/jorger/.local/lib/python3.11/site-packages/stack_data/core.py\", line 660, in executing_piece\n",
            "    return only(\n",
            "           ^^^^^\n",
            "  File \"/home/jorger/.local/lib/python3.11/site-packages/executing/executing.py\", line 190, in only\n",
            "    raise NotOneValueFound('Expected one value, found 0')\n",
            "executing.executing.NotOneValueFound: Expected one value, found 0\n"
          ]
        }
      ],
      "source": [
        "#. Receba um número e retorne se ele é primo:\n",
        "\n",
        "numero = int (input(\"Insira um numero\"))\n",
        "multiplos = 0\n",
        "\n",
        "\n",
        "\n",
        "for count in range (2, numero):\n",
        "    if (numero % count == 0):\n",
        "        print(f\"multiplo de {count}\")\n",
        "        multiplos += 1\n",
        "\n",
        "if(multiplos==0):\n",
        "    print(f\"{numero} é primo\")\n",
        "else:\n",
        "    print(f\"{numero} não é primo\")\n",
        "    \n",
        "\n"
      ]
    }
  ],
  "metadata": {
    "colab": {
      "provenance": []
    },
    "kernelspec": {
      "display_name": "Python 3",
      "language": "python",
      "name": "python3"
    },
    "language_info": {
      "codemirror_mode": {
        "name": "ipython",
        "version": 3
      },
      "file_extension": ".py",
      "mimetype": "text/x-python",
      "name": "python",
      "nbconvert_exporter": "python",
      "pygments_lexer": "ipython3",
      "version": "3.11.3"
    },
    "orig_nbformat": 4
  },
  "nbformat": 4,
  "nbformat_minor": 0
}
